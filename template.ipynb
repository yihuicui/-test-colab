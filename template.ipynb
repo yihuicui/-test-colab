{
  "nbformat": 4,
  "nbformat_minor": 0,
  "metadata": {
    "colab": {
      "name": "intro.ipynb",
      "provenance": [],
      "collapsed_sections": [],
      "toc_visible": true,
      "authorship_tag": "ABX9TyNuc7JaeWNzPtBKxebZt7zy",
      "include_colab_link": true
    },
    "kernelspec": {
      "name": "python3",
      "display_name": "Python 3"
    },
    "language_info": {
      "name": "python"
    }
  },
  "cells": [
    {
      "cell_type": "markdown",
      "metadata": {
        "id": "view-in-github",
        "colab_type": "text"
      },
      "source": [
        "<a href=\"https://colab.research.google.com/github/yihuicui/-test-colab/blob/main/template.ipynb\" target=\"_parent\"><img src=\"https://colab.research.google.com/assets/colab-badge.svg\" alt=\"Open In Colab\"/></a>"
      ]
    },
    {
      "cell_type": "markdown",
      "source": [
        "### Sales"
      ],
      "metadata": {
        "id": "nj2q5urQFXvz"
      }
    },
    {
      "cell_type": "code",
      "source": [
        "revenue = 10000\n",
        "tax = 0.19\n",
        "income = revenue * tax\n",
        "income"
      ],
      "metadata": {
        "colab": {
          "base_uri": "https://localhost:8080/"
        },
        "id": "Us9QjMBDEKt7",
        "outputId": "260c7e3b-3672-4fa4-8504-0774f7b55ab1"
      },
      "execution_count": 4,
      "outputs": [
        {
          "output_type": "execute_result",
          "data": {
            "text/plain": [
              "1900.0"
            ]
          },
          "metadata": {},
          "execution_count": 4
        }
      ]
    },
    {
      "cell_type": "code",
      "source": [
        "print(income)"
      ],
      "metadata": {
        "colab": {
          "base_uri": "https://localhost:8080/"
        },
        "id": "F2o8FV_AEwLh",
        "outputId": "a6a8f36b-669e-4b5a-c9b4-a45dadc69705"
      },
      "execution_count": 5,
      "outputs": [
        {
          "output_type": "stream",
          "name": "stdout",
          "text": [
            "1900.0\n"
          ]
        }
      ]
    },
    {
      "cell_type": "markdown",
      "source": [
        "## Summary"
      ],
      "metadata": {
        "id": "8706u7HUGoDb"
      }
    },
    {
      "cell_type": "code",
      "source": [
        "import numpy as np\n",
        "\n",
        "np.__version__"
      ],
      "metadata": {
        "colab": {
          "base_uri": "https://localhost:8080/",
          "height": 37
        },
        "id": "aRyYuDSHGtK3",
        "outputId": "0f574f35-b0df-4ee5-f169-bb28f2e2deb8"
      },
      "execution_count": 6,
      "outputs": [
        {
          "output_type": "execute_result",
          "data": {
            "text/plain": [
              "'1.21.6'"
            ],
            "application/vnd.google.colaboratory.intrinsic+json": {
              "type": "string"
            }
          },
          "metadata": {},
          "execution_count": 6
        }
      ]
    },
    {
      "cell_type": "code",
      "source": [
        "np.random.rand?"
      ],
      "metadata": {
        "id": "96pvM92SXkzq"
      },
      "execution_count": 7,
      "outputs": []
    },
    {
      "cell_type": "code",
      "source": [
        "import imageai"
      ],
      "metadata": {
        "colab": {
          "base_uri": "https://localhost:8080/",
          "height": 305
        },
        "id": "EZdpyE1SYWje",
        "outputId": "0d4a7a22-bc03-4271-e410-cd86b16df189"
      },
      "execution_count": 8,
      "outputs": [
        {
          "output_type": "error",
          "ename": "ModuleNotFoundError",
          "evalue": "ignored",
          "traceback": [
            "\u001b[0;31m---------------------------------------------------------------------------\u001b[0m",
            "\u001b[0;31mModuleNotFoundError\u001b[0m                       Traceback (most recent call last)",
            "\u001b[0;32m<ipython-input-8-2cf5b4bddf56>\u001b[0m in \u001b[0;36m<module>\u001b[0;34m\u001b[0m\n\u001b[0;32m----> 1\u001b[0;31m \u001b[0;32mimport\u001b[0m \u001b[0mimageai\u001b[0m\u001b[0;34m\u001b[0m\u001b[0;34m\u001b[0m\u001b[0m\n\u001b[0m",
            "\u001b[0;31mModuleNotFoundError\u001b[0m: No module named 'imageai'",
            "",
            "\u001b[0;31m---------------------------------------------------------------------------\u001b[0;32m\nNOTE: If your import is failing due to a missing package, you can\nmanually install dependencies using either !pip or !apt.\n\nTo view examples of installing some common dependencies, click the\n\"Open Examples\" button below.\n\u001b[0;31m---------------------------------------------------------------------------\u001b[0m\n"
          ],
          "errorDetails": {
            "actions": [
              {
                "action": "open_url",
                "actionText": "Open Examples",
                "url": "/notebooks/snippets/importing_libraries.ipynb"
              }
            ]
          }
        }
      ]
    },
    {
      "cell_type": "code",
      "source": [
        "!pip install imageai"
      ],
      "metadata": {
        "colab": {
          "base_uri": "https://localhost:8080/",
          "height": 1000
        },
        "id": "IxDT9X17YhOJ",
        "outputId": "f2d9f369-2712-4f09-8c4f-f2ee0c7aa1c0"
      },
      "execution_count": 9,
      "outputs": [
        {
          "output_type": "stream",
          "name": "stdout",
          "text": [
            "Looking in indexes: https://pypi.org/simple, https://us-python.pkg.dev/colab-wheels/public/simple/\n",
            "Collecting imageai\n",
            "  Downloading imageai-2.1.6-py3-none-any.whl (160 kB)\n",
            "\u001b[K     |████████████████████████████████| 160 kB 5.2 MB/s \n",
            "\u001b[?25hCollecting scipy==1.4.1\n",
            "  Downloading scipy-1.4.1-cp37-cp37m-manylinux1_x86_64.whl (26.1 MB)\n",
            "\u001b[K     |████████████████████████████████| 26.1 MB 25.3 MB/s \n",
            "\u001b[?25hCollecting pillow==7.0.0\n",
            "  Downloading Pillow-7.0.0-cp37-cp37m-manylinux1_x86_64.whl (2.1 MB)\n",
            "\u001b[K     |████████████████████████████████| 2.1 MB 48.3 MB/s \n",
            "\u001b[?25hCollecting keras-resnet==0.2.0\n",
            "  Downloading keras-resnet-0.2.0.tar.gz (9.3 kB)\n",
            "Collecting h5py==2.10.0\n",
            "  Downloading h5py-2.10.0-cp37-cp37m-manylinux1_x86_64.whl (2.9 MB)\n",
            "\u001b[K     |████████████████████████████████| 2.9 MB 41.2 MB/s \n",
            "\u001b[?25hRequirement already satisfied: opencv-python in /usr/local/lib/python3.7/dist-packages (from imageai) (4.6.0.66)\n",
            "Collecting keras==2.4.3\n",
            "  Downloading Keras-2.4.3-py2.py3-none-any.whl (36 kB)\n",
            "Collecting numpy==1.19.3\n",
            "  Downloading numpy-1.19.3-cp37-cp37m-manylinux2010_x86_64.whl (14.9 MB)\n",
            "\u001b[K     |████████████████████████████████| 14.9 MB 37.1 MB/s \n",
            "\u001b[?25hCollecting matplotlib==3.3.2\n",
            "  Downloading matplotlib-3.3.2-cp37-cp37m-manylinux1_x86_64.whl (11.6 MB)\n",
            "\u001b[K     |████████████████████████████████| 11.6 MB 22.8 MB/s \n",
            "\u001b[?25hRequirement already satisfied: six in /usr/local/lib/python3.7/dist-packages (from h5py==2.10.0->imageai) (1.15.0)\n",
            "Requirement already satisfied: pyyaml in /usr/local/lib/python3.7/dist-packages (from keras==2.4.3->imageai) (6.0)\n",
            "Requirement already satisfied: kiwisolver>=1.0.1 in /usr/local/lib/python3.7/dist-packages (from matplotlib==3.3.2->imageai) (1.4.4)\n",
            "Requirement already satisfied: cycler>=0.10 in /usr/local/lib/python3.7/dist-packages (from matplotlib==3.3.2->imageai) (0.11.0)\n",
            "Requirement already satisfied: certifi>=2020.06.20 in /usr/local/lib/python3.7/dist-packages (from matplotlib==3.3.2->imageai) (2022.6.15)\n",
            "Requirement already satisfied: python-dateutil>=2.1 in /usr/local/lib/python3.7/dist-packages (from matplotlib==3.3.2->imageai) (2.8.2)\n",
            "Requirement already satisfied: pyparsing!=2.0.4,!=2.1.2,!=2.1.6,>=2.0.3 in /usr/local/lib/python3.7/dist-packages (from matplotlib==3.3.2->imageai) (3.0.9)\n",
            "Requirement already satisfied: typing-extensions in /usr/local/lib/python3.7/dist-packages (from kiwisolver>=1.0.1->matplotlib==3.3.2->imageai) (4.1.1)\n",
            "Building wheels for collected packages: keras-resnet\n",
            "  Building wheel for keras-resnet (setup.py) ... \u001b[?25l\u001b[?25hdone\n",
            "  Created wheel for keras-resnet: filename=keras_resnet-0.2.0-py2.py3-none-any.whl size=20486 sha256=2e64f72ca72cee1d14853e8c8008aee6b5abfc5ed1b6052c5e05de3a203ed1fd\n",
            "  Stored in directory: /root/.cache/pip/wheels/bd/ef/06/5d65f696360436c3a423020c4b7fd8c558c09ef264a0e6c575\n",
            "Successfully built keras-resnet\n",
            "Installing collected packages: numpy, scipy, h5py, pillow, keras, matplotlib, keras-resnet, imageai\n",
            "  Attempting uninstall: numpy\n",
            "    Found existing installation: numpy 1.21.6\n",
            "    Uninstalling numpy-1.21.6:\n",
            "      Successfully uninstalled numpy-1.21.6\n",
            "  Attempting uninstall: scipy\n",
            "    Found existing installation: scipy 1.7.3\n",
            "    Uninstalling scipy-1.7.3:\n",
            "      Successfully uninstalled scipy-1.7.3\n",
            "  Attempting uninstall: h5py\n",
            "    Found existing installation: h5py 3.1.0\n",
            "    Uninstalling h5py-3.1.0:\n",
            "      Successfully uninstalled h5py-3.1.0\n",
            "  Attempting uninstall: pillow\n",
            "    Found existing installation: Pillow 7.1.2\n",
            "    Uninstalling Pillow-7.1.2:\n",
            "      Successfully uninstalled Pillow-7.1.2\n",
            "  Attempting uninstall: keras\n",
            "    Found existing installation: keras 2.8.0\n",
            "    Uninstalling keras-2.8.0:\n",
            "      Successfully uninstalled keras-2.8.0\n",
            "  Attempting uninstall: matplotlib\n",
            "    Found existing installation: matplotlib 3.2.2\n",
            "    Uninstalling matplotlib-3.2.2:\n",
            "      Successfully uninstalled matplotlib-3.2.2\n",
            "\u001b[31mERROR: pip's dependency resolver does not currently take into account all the packages that are installed. This behaviour is the source of the following dependency conflicts.\n",
            "xarray-einstats 0.2.2 requires numpy>=1.21, but you have numpy 1.19.3 which is incompatible.\n",
            "tensorflow 2.8.2+zzzcolab20220719082949 requires keras<2.9,>=2.8.0rc0, but you have keras 2.4.3 which is incompatible.\n",
            "tensorflow 2.8.2+zzzcolab20220719082949 requires numpy>=1.20, but you have numpy 1.19.3 which is incompatible.\n",
            "pymc3 3.11.5 requires scipy<1.8.0,>=1.7.3, but you have scipy 1.4.1 which is incompatible.\n",
            "plotnine 0.8.0 requires scipy>=1.5.0, but you have scipy 1.4.1 which is incompatible.\n",
            "jaxlib 0.3.14+cuda11.cudnn805 requires scipy>=1.5, but you have scipy 1.4.1 which is incompatible.\n",
            "jax 0.3.14 requires scipy>=1.5, but you have scipy 1.4.1 which is incompatible.\n",
            "cmdstanpy 1.0.4 requires numpy>=1.21, but you have numpy 1.19.3 which is incompatible.\n",
            "bokeh 2.3.3 requires pillow>=7.1.0, but you have pillow 7.0.0 which is incompatible.\u001b[0m\n",
            "Successfully installed h5py-2.10.0 imageai-2.1.6 keras-2.4.3 keras-resnet-0.2.0 matplotlib-3.3.2 numpy-1.19.3 pillow-7.0.0 scipy-1.4.1\n"
          ]
        },
        {
          "output_type": "display_data",
          "data": {
            "application/vnd.colab-display-data+json": {
              "pip_warning": {
                "packages": [
                  "PIL",
                  "matplotlib",
                  "mpl_toolkits",
                  "numpy"
                ]
              }
            }
          },
          "metadata": {}
        }
      ]
    },
    {
      "cell_type": "code",
      "source": [
        "import imageai"
      ],
      "metadata": {
        "id": "lSF5jA9IYsI5"
      },
      "execution_count": 10,
      "outputs": []
    },
    {
      "cell_type": "markdown",
      "source": [
        "### Markdown"
      ],
      "metadata": {
        "id": "b6DGmYv6ZM7B"
      }
    },
    {
      "cell_type": "markdown",
      "source": [
        "# Examples of *Markdown*\n",
        "# Examples of **Markdown**\n",
        "# Examples of __Markdown__\n",
        "# Examples of `Markdown`\n",
        "```\n",
        "# Examples of Markdown\n",
        "```\n",
        ">Python\n",
        ">>>Code\n",
        "\n",
        "An ordered list:\n",
        "1. One\n",
        "2. Two\n",
        "3. Three\n",
        "\n",
        "An unordered list:\n",
        "* One\n",
        "* Two\n",
        "* Three\n",
        "\n"
      ],
      "metadata": {
        "id": "K3zvSsW6ZwAx"
      }
    },
    {
      "cell_type": "markdown",
      "source": [
        "[Github](https://github.com/)\n",
        "![Python](data:image/jpeg;base64,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)"
      ],
      "metadata": {
        "id": "wVCT_aNnc5lF"
      }
    },
    {
      "cell_type": "code",
      "source": [],
      "metadata": {
        "id": "FzQB--ZeZWvJ"
      },
      "execution_count": null,
      "outputs": []
    },
    {
      "cell_type": "markdown",
      "source": [
        "$y = x^2 $\n"
      ],
      "metadata": {
        "id": "kO6ZKJhreOz5"
      }
    },
    {
      "cell_type": "markdown",
      "source": [
        "$\\frac{1}{n}\\sum_{i=1}^{n}$"
      ],
      "metadata": {
        "id": "U8kpEnU6eu84"
      }
    },
    {
      "cell_type": "markdown",
      "source": [
        "$A = \\begin{pmatrix}\n",
        "a_{1, 1}&a_{1, 2}\\\\\n",
        "a_{2, 1}&a_{2, 2}\n",
        "\\end{pmatrix}$"
      ],
      "metadata": {
        "id": "yVZdnOp_fZP_"
      }
    },
    {
      "cell_type": "markdown",
      "source": [
        "Col1 | Col2 | Col3\n",
        "---| ---| ---|\n",
        "val1 | val2 | val3\n",
        "val4 | cal5 |val6"
      ],
      "metadata": {
        "id": "uFvnLrXqgOqn"
      }
    }
  ]
}